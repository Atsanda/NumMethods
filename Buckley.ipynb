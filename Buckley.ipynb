{
 "cells": [
  {
   "cell_type": "code",
   "execution_count": 19,
   "metadata": {
    "collapsed": true
   },
   "outputs": [],
   "source": [
    "import numpy as np\n",
    "import scipy.linalg as la\n",
    "import matplotlib.pyplot as plt\n",
    "%matplotlib inline\n",
    "plt.rc('font', size=14)\n",
    "plt.rc('figure', figsize=(12, 7))"
   ]
  },
  {
   "cell_type": "code",
   "execution_count": 10,
   "metadata": {
    "collapsed": true
   },
   "outputs": [],
   "source": [
    "class Problem(object):\n",
    "    def __init__(self):\n",
    "        self.phi = 0.05\n",
    "        self.K   = 1\n",
    "        self.muw = 1\n",
    "        self.mul = 5\n",
    "        self.pL  = 2\n",
    "        self.pR  = 1\n",
    "        self.D   = 1\n",
    "        self.T   = 1\n",
    "    def kw(self, s):\n",
    "        return s*s\n",
    "    def kl(self, s):\n",
    "        return (1-s)**2\n",
    "    def s0(self, x):\n",
    "        return np.zeros_like(x)\n",
    "    def sL(self, t):\n",
    "        return 1"
   ]
  },
  {
   "cell_type": "code",
   "execution_count": 44,
   "metadata": {
    "collapsed": true
   },
   "outputs": [],
   "source": [
    "class Mesh(object):\n",
    "    def __init__(self, M, prob):\n",
    "        self.prob = prob\n",
    "        z = np.linspace(0, prob.D, M+1)\n",
    "        x = (z[:-1] + z[1:]) / 2\n",
    "        assert len(x) == M\n",
    "        self.x = x\n",
    "        self.s = np.empty_like(x)\n",
    "        self.p = np.empty_like(x)\n",
    "    def show(self):\n",
    "        f = plt.figure(figsize=(18, 6))\n",
    "        ax = f.add_subplot(1, 2, 1)\n",
    "        ax.plot(self.x, self.p, 'r')\n",
    "        ax.set_xlim(0, self.prob.D)\n",
    "        ax.set_ylim(self.prob.pR, self.prob.pL)\n",
    "        ax = f.add_subplot(1, 2, 2)\n",
    "        ax.plot(self.x, self.s, 'b')\n",
    "        ax.set_xlim(0, self.prob.D)\n",
    "        ax.set_ylim(0, 1)"
   ]
  },
  {
   "cell_type": "code",
   "execution_count": 48,
   "metadata": {
    "collapsed": true
   },
   "outputs": [],
   "source": [
    "class Solver(object):\n",
    "    def __init__(self, prob, mesh):\n",
    "        self.prob = prob\n",
    "        self.mesh = mesh\n",
    "    def set_initial_cond(self):\n",
    "        mesh = self.mesh\n",
    "        prob = self.prob\n",
    "        mesh.s = prob.s0(mesh.x)\n",
    "    def step(self, dt):\n",
    "        mesh = self.mesh\n",
    "        prob = self.prob\n",
    "        \n",
    "        sbnd = (mesh.s[:-1] + mesh.s[1:]) / 2\n",
    "        b = prob.kw(sbnd) / prob.muw + prob.kl(sbnd) / prob.mul\n",
    "        \n",
    "        M = len(mesh.x)\n",
    "        matrix = np.zeros((3, M))\n",
    "        rhs    = np.zeros(M)\n",
    "        \n",
    "        matrix[1, 0]    = matrix[1, -1] = 1\n",
    "        matrix[0, 2:]   = b[1:]\n",
    "        matrix[1, 1:-1] = -b[1:] - b[:-1]\n",
    "        matrix[2, :-2]  = b[:-1]\n",
    "        rhs[0]  = prob.pL\n",
    "        rhs[-1] = prob.pR\n",
    "        \n",
    "        mesh.p = la.solve_banded((1, 1), matrix, rhs)"
   ]
  },
  {
   "cell_type": "code",
   "execution_count": 49,
   "metadata": {
    "collapsed": false
   },
   "outputs": [],
   "source": [
    "prob = Problem()\n",
    "mesh = Mesh(50, prob)\n",
    "solver = Solver(prob, mesh)"
   ]
  },
  {
   "cell_type": "code",
   "execution_count": 50,
   "metadata": {
    "collapsed": false
   },
   "outputs": [
    {
     "data": {
      "image/png": "[encoded data removed]",
      "text/plain": [
       "<matplotlib.figure.Figure at 0x7f0898fe8358>"
      ]
     },
     "metadata": {},
     "output_type": "display_data"
    }
   ],
   "source": [
    "solver.set_initial_cond()\n",
    "solver.step(0)\n",
    "mesh.show()"
   ]
  }
 ],
 "metadata": {
  "kernelspec": {
   "display_name": "Python [Root]",
   "language": "python",
   "name": "Python [Root]"
  },
  "language_info": {
   "codemirror_mode": {
    "name": "ipython",
    "version": 3
   },
   "file_extension": ".py",
   "mimetype": "text/x-python",
   "name": "python",
   "nbconvert_exporter": "python",
   "pygments_lexer": "ipython3",
   "version": "3.5.1"
  }
 },
 "nbformat": 4,
 "nbformat_minor": 0
}
