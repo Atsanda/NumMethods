{
 "cells": [
  {
   "cell_type": "markdown",
   "metadata": {},
   "source": [
    "## Суммирование рядов\n",
    "Рассмотрим метод вычисления экспоненты, основанный на суммировании её ряда Тейлора в окрестности $x = 0$\n",
    "\n",
    "$$\n",
    "e^x = \\sum_{k=0}^{\\infty} \\frac{x^k}{k!}\n",
    "$$\n",
    "\n",
    "Этот ряд сходится абсолютно при любом $x$ и, с точки зрения математического анализа, пригоден для вычисления экспоненты всюду.\n",
    "\n",
    "Просуммировать бесконечное число слагаемых мы не в состоянии, поэтому оставим лишь конечное число слагаемых в ряду:\n",
    "$$\n",
    "S_n(x) = \\sum_{k=0}^n \\frac{x^k}{k!}.\n",
    "$$\n",
    "Так как исходный ряд сходится, $S_n(x) \\underset{n \\to \\infty}{\\longrightarrow} e^x$."
   ]
  },
  {
   "cell_type": "code",
   "execution_count": 1,
   "metadata": {
    "collapsed": true
   },
   "outputs": [],
   "source": [
    "import math\n",
    "\n",
    "def myexp1(x, n):\n",
    "    S = 0\n",
    "    for k in range(n+1): # k = 0, 1, ..., n\n",
    "        S += math.pow(x, k) / math.factorial(k)\n",
    "    return S"
   ]
  },
  {
   "cell_type": "code",
   "execution_count": 2,
   "metadata": {
    "collapsed": false,
    "scrolled": true
   },
   "outputs": [
    {
     "data": {
      "text/plain": [
       "4.440892098500626e-16"
      ]
     },
     "execution_count": 2,
     "metadata": {},
     "output_type": "execute_result"
    }
   ],
   "source": [
    "myexp1(1, 20) - math.exp(1)"
   ]
  },
  {
   "cell_type": "markdown",
   "metadata": {},
   "source": [
    "Данная реализация имеет несколько недостатков:\n",
    " * Реализует $e^x$ через более сложные функции $x^y, k!$\n",
    " * Обе функции $x^k$ и $k!$ могут расти и легко выйти за пределы типа float (аналог double в C)"
   ]
  },
  {
   "cell_type": "code",
   "execution_count": 3,
   "metadata": {
    "collapsed": false
   },
   "outputs": [],
   "source": [
    "# Раскомментируйте следующую строку, чтобы увидеть OverflowError\n",
    "# myexp1(3, 1000)\n",
    "\n",
    "# ---------------------------------------------------------------------------\n",
    "# OverflowError                             Traceback (most recent call last)\n",
    "# <ipython-input-4-41660cb1f885> in <module>()\n",
    "#       1 # Раскомментируйте следующую строку, чтобы увидеть OverflowError\n",
    "# ----> 2 myexp1(3, 1000)\n",
    "\n",
    "# <ipython-input-1-e7e262a3e6f5> in myexp1(x, n)\n",
    "#       4     S = 0\n",
    "#       5     for k in range(n+1): # k = 0, 1, ..., n\n",
    "# ----> 6         S += math.pow(x, k) / math.factorial(k)\n",
    "#       7     return S\n",
    "\n",
    "# OverflowError: int too large to convert to float"
   ]
  },
  {
   "cell_type": "markdown",
   "metadata": {},
   "source": [
    "Обозначим $a_k = \\frac{x^k}{k!}$. Тогда\n",
    "$$\n",
    "S_n = \\sum_{k=0}^{n} a_k\n",
    "$$\n",
    "Зная $a_{k-1}$, на самом деле, легко можно вычислить $a_k$, не прибегая к сложным функциям:\n",
    "$$\n",
    "a_k = a_{k-1} \\frac{x}{k}, \\qquad k > 0\n",
    "$$"
   ]
  },
  {
   "cell_type": "code",
   "execution_count": 4,
   "metadata": {
    "collapsed": true
   },
   "outputs": [],
   "source": [
    "def myexp2(x, n):\n",
    "    a = 1 # Значение a_0\n",
    "    S = a # Отдельно добавим к S значение a_0\n",
    "    for k in range(1, n+1): # k = 1, ..., n\n",
    "        # Сейчас a содержит a_{k-1}\n",
    "        a *= x / k\n",
    "        # Теперь a содержит a_k\n",
    "        S += a\n",
    "    return S"
   ]
  },
  {
   "cell_type": "code",
   "execution_count": null,
   "metadata": {
    "collapsed": false
   },
   "outputs": [
    {
     "data": {
      "text/plain": [
       "20.08553692318766"
      ]
     },
     "execution_count": 5,
     "metadata": {},
     "output_type": "execute_result"
    }
   ],
   "source": [
    "myexp2(3, 1000)"
   ]
  },
  {
   "cell_type": "markdown",
   "metadata": {},
   "source": [
    "### Измерение времени \n",
    "В jupyter notebook можно удобно узнать, сколько по времени выполняется код, используя магические команды **%%timeit** (для всей ячейки) и **%timeit** (для одной строки). Список других магических команд можно найти в [документации](http://ipython.readthedocs.io/en/stable/interactive/magics.html)"
   ]
  },
  {
   "cell_type": "code",
   "execution_count": null,
   "metadata": {
    "collapsed": false
   },
   "outputs": [],
   "source": [
    "%timeit myexp1(3, 100)"
   ]
  },
  {
   "cell_type": "code",
   "execution_count": null,
   "metadata": {
    "collapsed": false
   },
   "outputs": [],
   "source": [
    "%timeit myexp2(3, 100)"
   ]
  },
  {
   "cell_type": "code",
   "execution_count": null,
   "metadata": {
    "collapsed": false
   },
   "outputs": [],
   "source": [
    "%%timeit\n",
    "S = 0\n",
    "for j in range(1000000):\n",
    "    S += j\n",
    "S"
   ]
  },
  {
   "cell_type": "markdown",
   "metadata": {},
   "source": [
    "### Графики с использованием matplotlib"
   ]
  },
  {
   "cell_type": "markdown",
   "metadata": {},
   "source": [
    "Возможности библиотеки **matplotlib** очень похожи на возможности Matlab для отрисовки графиков. Большинство функций имеют те же имена и принимают аналогичные параметры. Большое количество примеров [тут](https://matplotlib.org/gallery.html).\n",
    "\n",
    "Функции для рисования находятся не в самой библиотеке **matplotlib**, а в ее разделе **pyplot**. Чтобы не писать длинное слово **pyplot** его часто сокращают до **plt**. Библиотека **matplotlib** поддерживает несколько способов вывода изображений (возможности также отличаются для разных платформ). Наиболее удобный способ отображения &mdash; прямо в активный jupyter notebook включается магисческой командой **%matplotlib inline**.\n",
    "\n",
    "Иногда бывает необходимо настроить **matplotlib**, например, увеличить стандартный шрифт. Для этого можно использовать **plt.rc**."
   ]
  },
  {
   "cell_type": "code",
   "execution_count": null,
   "metadata": {
    "collapsed": false
   },
   "outputs": [],
   "source": [
    "import matplotlib.pyplot as plt\n",
    "%matplotlib inline\n",
    "plt.rc('font', size=12)"
   ]
  },
  {
   "cell_type": "markdown",
   "metadata": {},
   "source": [
    "Основная функция для рисования графиков &mdash; **plt.plot** может изобразить набор точек, задаваемых координатами x и y. Стиль линии задается третим аргументом"
   ]
  },
  {
   "cell_type": "code",
   "execution_count": null,
   "metadata": {
    "collapsed": false
   },
   "outputs": [],
   "source": [
    "x = [1, 2, 3, 4, 5, 6]\n",
    "y = [1, 4, 9, 16, 25, 36]\n",
    "plt.plot(x, y)"
   ]
  },
  {
   "cell_type": "code",
   "execution_count": null,
   "metadata": {
    "collapsed": false
   },
   "outputs": [],
   "source": [
    "plt.plot(x, y, 'r.--')"
   ]
  },
  {
   "cell_type": "markdown",
   "metadata": {},
   "source": [
    "Несколько вызовы **plot** в одной ячейке будут отрисовывать графики на той же координатной плоскости. Если необходимо отобразить несколько графиков отдельно, можно создать новый рисунок, вызвав **plt.figure** или разбить рисунок на несколько зон с помощью функции **plt.subplot**."
   ]
  },
  {
   "cell_type": "code",
   "execution_count": null,
   "metadata": {
    "collapsed": false
   },
   "outputs": [],
   "source": [
    "plt.plot([1, 2, 3, 4, 5, 6, 7], [1, 4, 9, 16, 25, 36, 49], 'r')\n",
    "plt.plot([1, 2, 3, 4, 5, 6, 7], [50, 50/2, 50/3, 50/4, 50/5, 50/6, 50/7], 'b*')"
   ]
  },
  {
   "cell_type": "code",
   "execution_count": null,
   "metadata": {
    "collapsed": false
   },
   "outputs": [],
   "source": [
    "# Создаем рисунок размера 16х8 ~ на весь экран\n",
    "plt.figure(figsize=(16, 8))\n",
    "\n",
    "# Переключаемся на первый график в сетке 2х2\n",
    "plt.subplot(2, 2, 1)\n",
    "plt.plot(x, y)\n",
    "\n",
    "# Переключаемся на второй график (правый верхний) в той же сетке\n",
    "plt.subplot(2, 2, 2)\n",
    "plt.plot(x, x, 'r--')\n",
    "\n",
    "# Переключаемся на нижний график в сетке 2x1 (будет занимать место третьего и четвертого в сетке 2x2)\n",
    "plt.subplot(2, 1, 2)\n",
    "# Нарисуем треугольник из трех отрезков\n",
    "plt.plot([0, 1, 0, 0], [0, 0, 1, 0], 'ko-')\n",
    "# Раздвинем границы осей\n",
    "plt.xlim([-0.1, 1.1])\n",
    "plt.ylim([-0.1, 1.1])"
   ]
  },
  {
   "cell_type": "markdown",
   "metadata": {},
   "source": [
    "Для рисования графиков в логарифмическом масштабе удобно можно использовать функции **plt.semilogx** (логарифмическая ось x), **plt.semilogy** (логарифмическая ось x), **plt.loglog** (обе оси логарифмические). Координатную сетку можно отобразить с помощью **plt.grid**.\n",
    "\n",
    "Для добавления легенды к графику необходимо вызвать **plt.legend** (опционально указать положение можно с помощью аргумента **loc='<положение>'**). Подписи к графикам указываются в команде **plot** с помощью аргумента **label='<подпись>'**. Также можно озаглавить рисунок (**plt.title**) и оси (**plt.xlabel**, **plt.ylabel**)."
   ]
  },
  {
   "cell_type": "code",
   "execution_count": null,
   "metadata": {
    "collapsed": false
   },
   "outputs": [],
   "source": [
    "plt.semilogy([1, 2, 3, 4, 5, 6, 7, 8, 9], [1e1, 1e2, 1e3, 1e4, 1e5, 1e6, 1e7, 1e8, 1e9], label='$f=10^m$')\n",
    "plt.title('Plot title')\n",
    "plt.xlabel('m')\n",
    "plt.ylabel('f')\n",
    "plt.grid()\n",
    "plt.legend(loc='best')"
   ]
  },
  {
   "cell_type": "markdown",
   "metadata": {},
   "source": [
    "### Массивы из библиотеки numpy\n",
    "Встроенные в python списки [...] далеко не всегда удобны для прикладных задач, особенно для вычислительных задач. Основные удобства списков:\n",
    "* Список довольно легко можно удленить или соединить с другим списком"
   ]
  },
  {
   "cell_type": "code",
   "execution_count": null,
   "metadata": {
    "collapsed": false
   },
   "outputs": [],
   "source": [
    "x = []\n",
    "for i in range(10):\n",
    "    x.append(i) # добавляем элемент i к списку\n",
    "y = [20]*5 # Список из 5 копий элемента 20\n",
    "z = x + y  # Конкатенация списков\n",
    "print(z)"
   ]
  },
  {
   "cell_type": "markdown",
   "metadata": {},
   "source": [
    "* Списковое включение (list comprehension) [документация](https://docs.python.org/3/tutorial/datastructures.html#list-comprehensions)"
   ]
  },
  {
   "cell_type": "code",
   "execution_count": null,
   "metadata": {
    "collapsed": false
   },
   "outputs": [],
   "source": [
    "x = [-5.0 + 10 * i / 20 for i in range(21)]\n",
    "print(x)"
   ]
  },
  {
   "cell_type": "markdown",
   "metadata": {},
   "source": [
    "Довольно часто хочется, чтобы списки вели себя как вектора (могли складываться, вычитаться, умножаться на число и т.п.). Такой функционал представляют массивы из библиотеки **numpy**. Чтобы не писать длинное название **numpy** его часто сокращают до **np**."
   ]
  },
  {
   "cell_type": "code",
   "execution_count": null,
   "metadata": {
    "collapsed": false
   },
   "outputs": [],
   "source": [
    "import numpy as np\n",
    "x = np.array([1, 2, 3.5, 100]) \n",
    "print(x)"
   ]
  },
  {
   "cell_type": "markdown",
   "metadata": {},
   "source": [
    "Стандартные математические функции содержатся в библиотеке **numpy**, причем они могут принимать массив в качестве аргумента. В этом случае функция применяется к каждому элементу в отдельности. Это же касается и арифметических функций. Пот необходимости **numpy** умеет превращать число в массив (если это имеет смысл). Также функции **numpy** умеют автоматически превращать списки в массивы, если они получают на вход список."
   ]
  },
  {
   "cell_type": "code",
   "execution_count": null,
   "metadata": {
    "collapsed": false
   },
   "outputs": [],
   "source": [
    "print(np.exp(-x) + 1)               # Прибавляем к массиву число\n",
    "print(np.abs([-5, 2, 10, -6, -10])) # Передаем обычный список на вход функции numpy"
   ]
  },
  {
   "cell_type": "markdown",
   "metadata": {},
   "source": [
    "В **numpy** содержится большое число функций общего назначения, доступных в Matlab:"
   ]
  },
  {
   "cell_type": "code",
   "execution_count": null,
   "metadata": {
    "collapsed": false
   },
   "outputs": [],
   "source": [
    "print(np.linspace(-1, 1, 11))    # массив равномерно расположенных чисел от -1 до 1 из 11 элементов\n",
    "print(np.diff([1, 2, 4, 8, 12])) # Массив из разностей соседних элементов"
   ]
  },
  {
   "cell_type": "markdown",
   "metadata": {},
   "source": [
    "### Исследуем точность нашей функции для вычисления экспоненты\n",
    "Если посмотреть на реализацию функции myexp2, окажется, что она вполне может принимать в качестве x массив."
   ]
  },
  {
   "cell_type": "code",
   "execution_count": null,
   "metadata": {
    "collapsed": false
   },
   "outputs": [],
   "source": [
    "x = np.linspace(-1, 1, 5)\n",
    "print('myexp(x) =', myexp2(x, n=5))\n",
    "print('  exp(x) =', np.exp(x))"
   ]
  },
  {
   "cell_type": "markdown",
   "metadata": {},
   "source": [
    "Начертим график функции myexp2"
   ]
  },
  {
   "cell_type": "code",
   "execution_count": null,
   "metadata": {
    "collapsed": false
   },
   "outputs": [],
   "source": [
    "x = np.linspace(-10, 10, 500) # 500 точек на отрезке [-10, 10]\n",
    "plt.plot(x, myexp2(x, n=5), label='$S_5(x)$')\n",
    "plt.plot(x, np.exp(x), label='$e^x$')\n",
    "plt.legend(loc='best')"
   ]
  },
  {
   "cell_type": "markdown",
   "metadata": {},
   "source": [
    "Построим график относительной ошибки вычисления\n",
    "$$\n",
    "\\varepsilon(x) = \\frac{|e^x - S_n(x)|}{e^x}\n",
    "$$"
   ]
  },
  {
   "cell_type": "code",
   "execution_count": null,
   "metadata": {
    "collapsed": false
   },
   "outputs": [],
   "source": [
    "x = np.linspace(-10, 10, 500)\n",
    "ex = np.exp(x)\n",
    "Sn = myexp2(x, n=5)\n",
    "\n",
    "plt.figure(figsize=(16, 6))\n",
    "plt.semilogy(x, np.abs(ex - Sn) / ex, label=r'$\\varepsilon$')\n",
    "plt.grid()\n",
    "plt.legend(loc='best')"
   ]
  },
  {
   "cell_type": "markdown",
   "metadata": {},
   "source": [
    "Хорошо видно, что точность вычисления экспоненты таким способом резко снижается при удалении от точки $x = 0$. Попробуем взять больше слагаемых в ряду."
   ]
  },
  {
   "cell_type": "code",
   "execution_count": null,
   "metadata": {
    "collapsed": false
   },
   "outputs": [],
   "source": [
    "x = np.linspace(-10, 10, 500)\n",
    "ex = np.exp(x)\n",
    "Sn = myexp2(x, n=15) # Теперь слагаемых 15\n",
    "\n",
    "plt.figure(figsize=(16, 6))\n",
    "plt.semilogy(x, np.abs(ex - Sn) / ex, label=r'$\\varepsilon$')\n",
    "plt.grid()\n",
    "plt.legend(loc='best')"
   ]
  },
  {
   "cell_type": "markdown",
   "metadata": {},
   "source": [
    "Ситуация улучшилась на отрезке $\\sim [-1, 1]$, где ошибка стала порядка ошибки представления чисел типа double. Попробуем радикально увеличить число слагаемых."
   ]
  },
  {
   "cell_type": "code",
   "execution_count": null,
   "metadata": {
    "collapsed": false
   },
   "outputs": [],
   "source": [
    "x = np.linspace(-10, 10, 500)\n",
    "ex = np.exp(x)\n",
    "Sn = myexp2(x, n=500) # Теперь слагаемых 500\n",
    "\n",
    "plt.figure(figsize=(16, 6))\n",
    "plt.semilogy(x, np.abs(ex - Sn) / ex, label=r'$\\varepsilon$')\n",
    "plt.grid()\n",
    "plt.legend(loc='best')"
   ]
  },
  {
   "cell_type": "markdown",
   "metadata": {},
   "source": [
    "<h2><span style=\"color:red\">Вопрос №1</span></h2>\n",
    "Почему при $x < 0$ относительная погрешность вычисления $e^x$ суммированием ряда Тейлора дает такую большую погрешность? Почему этого не происходит в области $x > 0$, где ошибка порядка $10^{-15} \\div 10^{-16}$, т.е. порядка ошибки представления чисел."
   ]
  },
  {
   "cell_type": "markdown",
   "metadata": {},
   "source": [
    "<h2><span style=\"color:red\">Задание №1</span></h2>\n",
    "Напишите функцию, вычисляющую $e^x$, которая принимает три аргумента: x, n, m. Работа этой функции должна быть основана на соотношении\n",
    "$$\n",
    "\\exp{x} = \\left(\\exp\\frac{x}{2^m}\\right)^{2^m}.\n",
    "$$\n",
    "Для быстрого возведения в степерь $2^m$ можно использовать [повторное возведение в квадрат](https://ru.wikipedia.org/wiki/%D0%90%D0%BB%D0%B3%D0%BE%D1%80%D0%B8%D1%82%D0%BC%D1%8B_%D0%B1%D1%8B%D1%81%D1%82%D1%80%D0%BE%D0%B3%D0%BE_%D0%B2%D0%BE%D0%B7%D0%B2%D0%B5%D0%B4%D0%B5%D0%BD%D0%B8%D1%8F_%D0%B2_%D1%81%D1%82%D0%B5%D0%BF%D0%B5%D0%BD%D1%8C):\n",
    "```\n",
    "z = x\n",
    "повторить m раз {\n",
    "    z = z*z\n",
    "}\n",
    "```\n",
    "Для вычисления $\\exp\\frac{x}{2^m}$ воспользуйстесь суммированием первых $n$ слагаемых ряда. Ваше решение не должно использовать явных операций возведения в степень. Постарайтесь найти оптимальные (по относительной погрешности и количеству операций) значения $n, m$ для вычисления экспоненты на отрезке $[-10, 10]$. Нарисуйте для этого случая график относительной погрешности."
   ]
  }
 ],
 "metadata": {
  "anaconda-cloud": {},
  "kernelspec": {
   "display_name": "Python [Root]",
   "language": "python",
   "name": "Python [Root]"
  },
  "language_info": {
   "codemirror_mode": {
    "name": "ipython",
    "version": 3
   },
   "file_extension": ".py",
   "mimetype": "text/x-python",
   "name": "python",
   "nbconvert_exporter": "python",
   "pygments_lexer": "ipython3",
   "version": "3.5.2"
  }
 },
 "nbformat": 4,
 "nbformat_minor": 1
}
